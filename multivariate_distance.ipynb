{
  "metadata": {
    "language_info": {
      "codemirror_mode": {
        "name": "python",
        "version": 3
      },
      "file_extension": ".py",
      "mimetype": "text/x-python",
      "name": "python",
      "nbconvert_exporter": "python",
      "pygments_lexer": "ipython3",
      "version": "3.8"
    },
    "kernelspec": {
      "name": "python",
      "display_name": "Python (Pyodide)",
      "language": "python"
    }
  },
  "nbformat_minor": 4,
  "nbformat": 4,
  "cells": [
    {
      "cell_type": "code",
      "source": "# importando os pacotes\nfrom scipy.spatial import distance\nfrom math import dist\nimport numpy as np\n\n# definindo os pontos\nA = (3, 2)\nB = (4, 5)\nC = (4, 7)\nD = (2, 7)\nE = (6, 6)\nF = (7, 7)\nG = (6, 4)\nA, B, C, D, E, F, G",
      "metadata": {
        "trusted": true
      },
      "execution_count": 46,
      "outputs": [
        {
          "execution_count": 46,
          "output_type": "execute_result",
          "data": {
            "text/plain": "((3, 2), (4, 5), (4, 7), (2, 7), (6, 6), (7, 7), (6, 4))"
          },
          "metadata": {}
        }
      ]
    },
    {
      "cell_type": "code",
      "source": "# calculando a distância de Minkowski\nminkowski_dist_ordem_1 = distance.minkowski(A, B, p=1)\nprint('Distância de Minkowski Distance entre', A, 'and', B, 'é:', minkowski_dist_ordem_1)",
      "metadata": {
        "trusted": true
      },
      "execution_count": 47,
      "outputs": [
        {
          "name": "stdout",
          "text": "Distância de Minkowski Distance entre (3, 2) and (4, 5) é: 4.0\n",
          "output_type": "stream"
        }
      ]
    },
    {
      "cell_type": "code",
      "source": "minkowski_dist_ordem_2 = distance.minkowski(A, B, p=2)\nprint('Distância de Minkowski Distance entre', A, 'and', B, 'é:', minkowski_dist_ordem_2)",
      "metadata": {
        "trusted": true
      },
      "execution_count": 48,
      "outputs": [
        {
          "name": "stdout",
          "text": "Distância de Minkowski Distance entre (3, 2) and (4, 5) é: 3.1622776601683795\n",
          "output_type": "stream"
        }
      ]
    },
    {
      "cell_type": "code",
      "source": "minkowski_dist_ordem_3 = distance.minkowski(A, B, p=3)\nprint('Distância de Minkowski Distance entre', A, 'and', B, 'é:', minkowski_dist_ordem_3)",
      "metadata": {
        "trusted": true
      },
      "execution_count": 49,
      "outputs": [
        {
          "name": "stdout",
          "text": "Distância de Minkowski Distance entre (3, 2) and (4, 5) é: 3.0365889718756622\n",
          "output_type": "stream"
        }
      ]
    },
    {
      "cell_type": "code",
      "source": "minkowski_dist_ordem_100 = distance.minkowski(A, B, p=100)\nprint('Distância de Minkowski Distance entre', A, 'and', B, 'é:', minkowski_dist_ordem_100)",
      "metadata": {
        "trusted": true
      },
      "execution_count": 50,
      "outputs": [
        {
          "name": "stdout",
          "text": "Distância de Minkowski Distance entre (3, 2) and (4, 5) é: 3.0\n",
          "output_type": "stream"
        }
      ]
    },
    {
      "cell_type": "code",
      "source": "# calculando a distância de Manhattan\nmanhattan_dist = distance.cityblock(A, B)\nprint('Distância de Manhattan entre', A, 'and', B, 'é: ', manhattan_dist)",
      "metadata": {
        "trusted": true
      },
      "execution_count": 51,
      "outputs": [
        {
          "name": "stdout",
          "text": "Distância de Manhattan entre (3, 2) and (4, 5) é:  4\n",
          "output_type": "stream"
        }
      ]
    },
    {
      "cell_type": "code",
      "source": "# calculando a distância euclidiana\neuclidiana_dist = dist(A, B)\nprint('Distância euclidiana entre', A, 'and', B, 'é: ', euclidiana_dist)",
      "metadata": {
        "trusted": true
      },
      "execution_count": 52,
      "outputs": [
        {
          "name": "stdout",
          "text": "Distância euclidiana entre (3, 2) and (4, 5) é:  3.1622776601683795\n",
          "output_type": "stream"
        }
      ]
    },
    {
      "cell_type": "code",
      "source": "# calculando a distância de Chebyshev\nchebyshev_dist = distance.chebyshev(A, B)\nprint('Distância de Chebyshev entre', A, 'and', B, 'é: ', chebyshev_dist)",
      "metadata": {
        "trusted": true
      },
      "execution_count": 53,
      "outputs": [
        {
          "name": "stdout",
          "text": "Distância de Chebyshev entre (3, 2) and (4, 5) é:  3\n",
          "output_type": "stream"
        }
      ]
    },
    {
      "cell_type": "code",
      "source": "print('Distância de Minkowski de ordem 1:',minkowski_dist_ordem_1, '\\nDistância de Manhattan: ',manhattan_dist)",
      "metadata": {
        "trusted": true
      },
      "execution_count": 54,
      "outputs": [
        {
          "name": "stdout",
          "text": "Distância de Minkowski de ordem 1: 4.0 \nDistância de Manhattan:  4\n",
          "output_type": "stream"
        }
      ]
    },
    {
      "cell_type": "code",
      "source": "print('Distância de Minkowski de ordem 2:',minkowski_dist_ordem_2, '\\nDistância euclidiana: ',euclidiana_dist)",
      "metadata": {
        "trusted": true
      },
      "execution_count": 55,
      "outputs": [
        {
          "name": "stdout",
          "text": "Distância de Minkowski de ordem 2: 3.1622776601683795 \nDistância euclidiana:  3.1622776601683795\n",
          "output_type": "stream"
        }
      ]
    },
    {
      "cell_type": "code",
      "source": "print('Distância de Minkowski de ordem 100 (inf):',minkowski_dist_ordem_100, '\\nDistância de Chebyshev: ',chebyshev_dist)",
      "metadata": {
        "trusted": true
      },
      "execution_count": 56,
      "outputs": [
        {
          "name": "stdout",
          "text": "Distância de Minkowski de ordem 100 (inf): 3.0 \nDistância de Chebyshev:  3\n",
          "output_type": "stream"
        }
      ]
    },
    {
      "cell_type": "code",
      "source": "# calculando a distância de Mahalanobis\nV1 = [3, 4, 4, 2, 6, 7, 6]\nV2 = [2, 5, 7, 7, 6, 7, 4]\ndados = np.stack((V1, V2), axis=0)\nS = np.cov(dados)\nS_inv = np.linalg.inv(m)\nmahalanobis_dist = distance.mahalanobis(A, B, S_inv)\nprint('Distância de Mahalanobis entre', A, 'and', B, 'é: ', mahalanobis_dist)",
      "metadata": {
        "trusted": true
      },
      "execution_count": 61,
      "outputs": [
        {
          "name": "stdout",
          "text": "Distância de Mahalanobis entre (3, 2) and (4, 5) é:  1.6062186579877782\n",
          "output_type": "stream"
        }
      ]
    },
    {
      "cell_type": "code",
      "source": "",
      "metadata": {},
      "execution_count": null,
      "outputs": []
    }
  ]
}